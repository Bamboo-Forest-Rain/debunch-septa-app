{
 "cells": [
  {
   "cell_type": "code",
   "execution_count": 1,
   "metadata": {},
   "outputs": [],
   "source": [
    "import pandas as pd\n",
    "import numpy as np"
   ]
  },
  {
   "cell_type": "code",
   "execution_count": 2,
   "metadata": {},
   "outputs": [],
   "source": [
    "runtime = pd.read_parquet(\"../raw-data/runtimeDf.gzip\")"
   ]
  },
  {
   "cell_type": "code",
   "execution_count": 6,
   "metadata": {},
   "outputs": [
    {
     "data": {
      "text/plain": [
       "Index(['DoW', 'serviceDate', 'routeId', 'directionId', 'blockId', 'tripId',\n",
       "       'scheduledTripStartTime', 'scheduledRuntimeSeconds',\n",
       "       'scheduledFromStopDepartureTime', 'observedRuntimeSeconds',\n",
       "       'stopPathLength', 'fromStopPathIndex', 'fromStopName', 'fromStopId',\n",
       "       'fromStopSequence', 'fromStopIsWaitStop',\n",
       "       'fromStopIsScheduledAdherenceStop', 'fromStopIsTripFirstStop',\n",
       "       'fromStopIsTripLastStop', 'toStopPathIndex', 'toStopName', 'toStopId',\n",
       "       'toStopSequence', 'toStopIsWaitStop', 'toStopIsScheduledAdherenceStop',\n",
       "       'toStopIsTripFirstStop', 'toStopIsTripLastStop', 'speed', 'cumDistance',\n",
       "       'scheduledToStopArrivalTime', 'observedCumRuntimeSeconds',\n",
       "       'observedToStopArrivalTime', 'instanceId', 'expectedSpeed',\n",
       "       'expectedCumRuntimeSeconds', 'late', 'prevInstanceId', 'lagInstanceId',\n",
       "       'prevBusArrivalTime', 'prevBusTripStartTime', 'headway',\n",
       "       'expectedHeadway', 'bunched', 'lagBunched', 'initBunching', 'period'],\n",
       "      dtype='object')"
      ]
     },
     "execution_count": 6,
     "metadata": {},
     "output_type": "execute_result"
    }
   ],
   "source": [
    "runtime.columns"
   ]
  }
 ],
 "metadata": {
  "kernelspec": {
   "display_name": "musa-550-fall-2022",
   "language": "python",
   "name": "python3"
  },
  "language_info": {
   "codemirror_mode": {
    "name": "ipython",
    "version": 3
   },
   "file_extension": ".py",
   "mimetype": "text/x-python",
   "name": "python",
   "nbconvert_exporter": "python",
   "pygments_lexer": "ipython3",
   "version": "3.9.15"
  },
  "orig_nbformat": 4
 },
 "nbformat": 4,
 "nbformat_minor": 2
}
