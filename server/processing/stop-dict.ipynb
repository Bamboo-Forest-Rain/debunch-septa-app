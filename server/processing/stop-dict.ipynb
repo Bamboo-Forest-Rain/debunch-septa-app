{
 "cells": [
  {
   "cell_type": "code",
   "execution_count": 7,
   "metadata": {},
   "outputs": [],
   "source": [
    "import pandas as pd\n",
    "import numpy as np\n",
    "import geopandas as gpd"
   ]
  },
  {
   "cell_type": "code",
   "execution_count": 2,
   "metadata": {},
   "outputs": [],
   "source": [
    "runtime = pd.read_parquet(\"../raw-data/runtimeDf.gzip\")"
   ]
  },
  {
   "cell_type": "code",
   "execution_count": 10,
   "metadata": {},
   "outputs": [],
   "source": [
    "stops = gpd.read_file(\"../data/stops/stopsGeographyProcessed.shp\")\n",
    "stops = stops.rename(\n",
    "    columns={\"directionI\": \"directionId\", \"StopId\": \"stopId\"}\n",
    ").drop(\"geography\", axis=1)"
   ]
  },
  {
   "cell_type": "code",
   "execution_count": 32,
   "metadata": {},
   "outputs": [],
   "source": [
    "routes = [\"21\", \"33\", \"47\"]"
   ]
  },
  {
   "cell_type": "code",
   "execution_count": 54,
   "metadata": {},
   "outputs": [],
   "source": [
    "extract = (\n",
    "    runtime.query(\"routeId.isin(@routes)\")\n",
    "    .copy()\n",
    "    .groupby([\"routeId\", \"directionId\", \"toStopId\"])\n",
    "    .agg({\"toStopPathIndex\": \"min\", \"expectedHeadway\": \"mean\", \"DoW\": \"size\"})\n",
    "    .query(\"DoW > 0\")\n",
    "    .copy()\n",
    "    .reset_index()\n",
    "    .drop([\"DoW\"], axis=1)\n",
    ")"
   ]
  },
  {
   "cell_type": "code",
   "execution_count": 49,
   "metadata": {},
   "outputs": [],
   "source": [
    "stops.routeId = stops.routeId.astype(str)\n",
    "stops.directionId = stops.directionId.astype(str)\n",
    "stops.stopId = stops.stopId.astype(str)"
   ]
  },
  {
   "cell_type": "code",
   "execution_count": 55,
   "metadata": {},
   "outputs": [],
   "source": [
    "extract = extract.merge(\n",
    "    stops[[\"routeId\", \"directionId\", \"stopId\", \"centerCity\"]].rename(columns={\"stopId\": \"toStopId\"}),\n",
    "    how=\"left\",\n",
    "    on=[\"routeId\", \"directionId\", \"toStopId\"],\n",
    ").drop([\"routeId\", \"directionId\"], axis=1)"
   ]
  },
  {
   "cell_type": "code",
   "execution_count": 57,
   "metadata": {},
   "outputs": [
    {
     "data": {
      "text/html": [
       "<div>\n",
       "<style scoped>\n",
       "    .dataframe tbody tr th:only-of-type {\n",
       "        vertical-align: middle;\n",
       "    }\n",
       "\n",
       "    .dataframe tbody tr th {\n",
       "        vertical-align: top;\n",
       "    }\n",
       "\n",
       "    .dataframe thead th {\n",
       "        text-align: right;\n",
       "    }\n",
       "</style>\n",
       "<table border=\"1\" class=\"dataframe\">\n",
       "  <thead>\n",
       "    <tr style=\"text-align: right;\">\n",
       "      <th></th>\n",
       "      <th>routeId</th>\n",
       "      <th>directionId</th>\n",
       "      <th>toStopId</th>\n",
       "      <th>toStopPathIndex</th>\n",
       "      <th>expectedHeadway</th>\n",
       "      <th>centerCity</th>\n",
       "    </tr>\n",
       "  </thead>\n",
       "  <tbody>\n",
       "    <tr>\n",
       "      <th>0</th>\n",
       "      <td>33</td>\n",
       "      <td>0</td>\n",
       "      <td>10255</td>\n",
       "      <td>46.0</td>\n",
       "      <td>899.936776</td>\n",
       "      <td>in</td>\n",
       "    </tr>\n",
       "    <tr>\n",
       "      <th>1</th>\n",
       "      <td>33</td>\n",
       "      <td>0</td>\n",
       "      <td>10259</td>\n",
       "      <td>45.0</td>\n",
       "      <td>903.206349</td>\n",
       "      <td>in</td>\n",
       "    </tr>\n",
       "    <tr>\n",
       "      <th>2</th>\n",
       "      <td>33</td>\n",
       "      <td>0</td>\n",
       "      <td>10263</td>\n",
       "      <td>44.0</td>\n",
       "      <td>903.164557</td>\n",
       "      <td>in</td>\n",
       "    </tr>\n",
       "    <tr>\n",
       "      <th>3</th>\n",
       "      <td>33</td>\n",
       "      <td>0</td>\n",
       "      <td>10266</td>\n",
       "      <td>43.0</td>\n",
       "      <td>1180.823864</td>\n",
       "      <td>in</td>\n",
       "    </tr>\n",
       "    <tr>\n",
       "      <th>4</th>\n",
       "      <td>33</td>\n",
       "      <td>0</td>\n",
       "      <td>10272</td>\n",
       "      <td>41.0</td>\n",
       "      <td>907.301587</td>\n",
       "      <td>in</td>\n",
       "    </tr>\n",
       "    <tr>\n",
       "      <th>...</th>\n",
       "      <td>...</td>\n",
       "      <td>...</td>\n",
       "      <td>...</td>\n",
       "      <td>...</td>\n",
       "      <td>...</td>\n",
       "      <td>...</td>\n",
       "    </tr>\n",
       "    <tr>\n",
       "      <th>451</th>\n",
       "      <td>21</td>\n",
       "      <td>1</td>\n",
       "      <td>434</td>\n",
       "      <td>47.0</td>\n",
       "      <td>765.174330</td>\n",
       "      <td>post</td>\n",
       "    </tr>\n",
       "    <tr>\n",
       "      <th>452</th>\n",
       "      <td>21</td>\n",
       "      <td>1</td>\n",
       "      <td>434</td>\n",
       "      <td>47.0</td>\n",
       "      <td>765.174330</td>\n",
       "      <td>post</td>\n",
       "    </tr>\n",
       "    <tr>\n",
       "      <th>453</th>\n",
       "      <td>21</td>\n",
       "      <td>1</td>\n",
       "      <td>435</td>\n",
       "      <td>55.0</td>\n",
       "      <td>769.842400</td>\n",
       "      <td>post</td>\n",
       "    </tr>\n",
       "    <tr>\n",
       "      <th>454</th>\n",
       "      <td>21</td>\n",
       "      <td>1</td>\n",
       "      <td>435</td>\n",
       "      <td>55.0</td>\n",
       "      <td>769.842400</td>\n",
       "      <td>post</td>\n",
       "    </tr>\n",
       "    <tr>\n",
       "      <th>455</th>\n",
       "      <td>21</td>\n",
       "      <td>1</td>\n",
       "      <td>436</td>\n",
       "      <td>56.0</td>\n",
       "      <td>762.545455</td>\n",
       "      <td>post</td>\n",
       "    </tr>\n",
       "  </tbody>\n",
       "</table>\n",
       "<p>456 rows × 6 columns</p>\n",
       "</div>"
      ],
      "text/plain": [
       "    routeId directionId toStopId  toStopPathIndex  expectedHeadway centerCity\n",
       "0        33           0    10255             46.0       899.936776         in\n",
       "1        33           0    10259             45.0       903.206349         in\n",
       "2        33           0    10263             44.0       903.164557         in\n",
       "3        33           0    10266             43.0      1180.823864         in\n",
       "4        33           0    10272             41.0       907.301587         in\n",
       "..      ...         ...      ...              ...              ...        ...\n",
       "451      21           1      434             47.0       765.174330       post\n",
       "452      21           1      434             47.0       765.174330       post\n",
       "453      21           1      435             55.0       769.842400       post\n",
       "454      21           1      435             55.0       769.842400       post\n",
       "455      21           1      436             56.0       762.545455       post\n",
       "\n",
       "[456 rows x 6 columns]"
      ]
     },
     "execution_count": 57,
     "metadata": {},
     "output_type": "execute_result"
    }
   ],
   "source": [
    "extract"
   ]
  }
 ],
 "metadata": {
  "kernelspec": {
   "display_name": "musa-550-fall-2022",
   "language": "python",
   "name": "python3"
  },
  "language_info": {
   "codemirror_mode": {
    "name": "ipython",
    "version": 3
   },
   "file_extension": ".py",
   "mimetype": "text/x-python",
   "name": "python",
   "nbconvert_exporter": "python",
   "pygments_lexer": "ipython3",
   "version": "3.9.15"
  },
  "orig_nbformat": 4
 },
 "nbformat": 4,
 "nbformat_minor": 2
}
