{
 "cells": [
  {
   "cell_type": "code",
   "execution_count": 7,
   "metadata": {},
   "outputs": [],
   "source": [
    "import pandas as pd\n",
    "import numpy as np\n",
    "pd.set_option('display.max_columns', None)\n",
    "runtime = pd.read_parquet(\"../raw-data/runtimeSeveralRoutesOctWithLags_all.gzip\")"
   ]
  },
  {
   "cell_type": "code",
   "execution_count": 27,
   "metadata": {},
   "outputs": [
    {
     "data": {
      "text/plain": [
       "['17', '33', '48', '47', '21', ..., '60', '79', 'G', '18', '6']\n",
       "Length: 13\n",
       "Categories (13, object): ['17', '33', '48', '47', ..., '79', 'G', '18', '6']"
      ]
     },
     "execution_count": 27,
     "metadata": {},
     "output_type": "execute_result"
    }
   ],
   "source": [
    "runtime.routeId.unique()"
   ]
  },
  {
   "cell_type": "code",
   "execution_count": 8,
   "metadata": {},
   "outputs": [],
   "source": [
    "# Select \n",
    "query = \"(routeId.isin(['7', '21', '47', '33'])) & (serviceDate == '2022-10-26')\"\n",
    "runtime_sel = runtime.query(query).copy()"
   ]
  },
  {
   "cell_type": "code",
   "execution_count": 20,
   "metadata": {},
   "outputs": [
    {
     "data": {
      "text/plain": [
       "['33', '47', '21']\n",
       "Categories (13, object): ['17', '33', '48', '47', ..., '79', 'G', '18', '6']"
      ]
     },
     "execution_count": 20,
     "metadata": {},
     "output_type": "execute_result"
    }
   ],
   "source": [
    "runtime_sel.routeId.unique()"
   ]
  },
  {
   "cell_type": "code",
   "execution_count": 11,
   "metadata": {},
   "outputs": [],
   "source": [
    "# All the trips on this day with their time range\n",
    "trips = runtime_sel.groupby('tripId')[\"observedToStopArrivalTime\"].agg([\"min\", \"max\"])"
   ]
  },
  {
   "cell_type": "code",
   "execution_count": 12,
   "metadata": {},
   "outputs": [
    {
     "data": {
      "text/html": [
       "<div>\n",
       "<style scoped>\n",
       "    .dataframe tbody tr th:only-of-type {\n",
       "        vertical-align: middle;\n",
       "    }\n",
       "\n",
       "    .dataframe tbody tr th {\n",
       "        vertical-align: top;\n",
       "    }\n",
       "\n",
       "    .dataframe thead th {\n",
       "        text-align: right;\n",
       "    }\n",
       "</style>\n",
       "<table border=\"1\" class=\"dataframe\">\n",
       "  <thead>\n",
       "    <tr style=\"text-align: right;\">\n",
       "      <th></th>\n",
       "      <th>min</th>\n",
       "      <th>max</th>\n",
       "    </tr>\n",
       "    <tr>\n",
       "      <th>tripId</th>\n",
       "      <th></th>\n",
       "      <th></th>\n",
       "    </tr>\n",
       "  </thead>\n",
       "  <tbody>\n",
       "    <tr>\n",
       "      <th>60622</th>\n",
       "      <td>2022-10-26 20:40:16</td>\n",
       "      <td>2022-10-26 21:08:17</td>\n",
       "    </tr>\n",
       "    <tr>\n",
       "      <th>60623</th>\n",
       "      <td>2022-10-26 17:18:00</td>\n",
       "      <td>2022-10-26 17:58:05</td>\n",
       "    </tr>\n",
       "    <tr>\n",
       "      <th>60624</th>\n",
       "      <td>2022-10-26 17:23:36</td>\n",
       "      <td>2022-10-26 18:04:23</td>\n",
       "    </tr>\n",
       "    <tr>\n",
       "      <th>60625</th>\n",
       "      <td>2022-10-26 17:36:18</td>\n",
       "      <td>2022-10-26 18:18:09</td>\n",
       "    </tr>\n",
       "    <tr>\n",
       "      <th>60626</th>\n",
       "      <td>2022-10-26 17:50:34</td>\n",
       "      <td>2022-10-26 18:29:53</td>\n",
       "    </tr>\n",
       "  </tbody>\n",
       "</table>\n",
       "</div>"
      ],
      "text/plain": [
       "                       min                 max\n",
       "tripId                                        \n",
       "60622  2022-10-26 20:40:16 2022-10-26 21:08:17\n",
       "60623  2022-10-26 17:18:00 2022-10-26 17:58:05\n",
       "60624  2022-10-26 17:23:36 2022-10-26 18:04:23\n",
       "60625  2022-10-26 17:36:18 2022-10-26 18:18:09\n",
       "60626  2022-10-26 17:50:34 2022-10-26 18:29:53"
      ]
     },
     "execution_count": 12,
     "metadata": {},
     "output_type": "execute_result"
    }
   ],
   "source": [
    "trips.head()"
   ]
  },
  {
   "cell_type": "code",
   "execution_count": 17,
   "metadata": {},
   "outputs": [],
   "source": [
    "desired_time = \"2022-10-26 08:30:16\""
   ]
  },
  {
   "cell_type": "code",
   "execution_count": 14,
   "metadata": {},
   "outputs": [
    {
     "data": {
      "text/plain": [
       "586"
      ]
     },
     "execution_count": 14,
     "metadata": {},
     "output_type": "execute_result"
    }
   ],
   "source": [
    "len(trips)"
   ]
  },
  {
   "cell_type": "code",
   "execution_count": 19,
   "metadata": {},
   "outputs": [
    {
     "data": {
      "text/plain": [
       "26"
      ]
     },
     "execution_count": 19,
     "metadata": {},
     "output_type": "execute_result"
    }
   ],
   "source": [
    "len(trips.query(\"min < @desired_time < max\"))"
   ]
  }
 ],
 "metadata": {
  "kernelspec": {
   "display_name": "musa-550-fall-2022",
   "language": "python",
   "name": "python3"
  },
  "language_info": {
   "codemirror_mode": {
    "name": "ipython",
    "version": 3
   },
   "file_extension": ".py",
   "mimetype": "text/x-python",
   "name": "python",
   "nbconvert_exporter": "python",
   "pygments_lexer": "ipython3",
   "version": "3.9.15"
  },
  "orig_nbformat": 4
 },
 "nbformat": 4,
 "nbformat_minor": 2
}
