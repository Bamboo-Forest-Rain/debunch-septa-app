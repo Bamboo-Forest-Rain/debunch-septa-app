{
 "cells": [
  {
   "cell_type": "code",
   "execution_count": 30,
   "metadata": {},
   "outputs": [],
   "source": [
    "import pandas as pd\n",
    "import numpy as np\n",
    "pd.set_option('display.max_columns', None)\n",
    "runtime = pd.read_parquet(\"../raw-data/runtimeSeveralRoutesOctWithLags_all.gzip\")"
   ]
  },
  {
   "attachments": {},
   "cell_type": "markdown",
   "metadata": {},
   "source": [
    "# Generate prediction result for demo data"
   ]
  },
  {
   "attachments": {},
   "cell_type": "markdown",
   "metadata": {},
   "source": [
    "Form a table with:\n",
    "\n",
    "- Rows representing the active trips at \"2022-10-26 08:30:16\".\n",
    "- Columns containing information of:\n",
    "  - Route\n",
    "  - Direction\n",
    "  - Current stop ID and stop name\n",
    "  - Stop IDs and stop names 11-20 stops ahead"
   ]
  },
  {
   "cell_type": "code",
   "execution_count": 95,
   "metadata": {},
   "outputs": [],
   "source": [
    "# Select \n",
    "query = \"(routeId.isin(['21', '47', '33'])) & (serviceDate == '2022-10-26')\"\n",
    "runtime_sel = runtime.query(query).copy()"
   ]
  },
  {
   "cell_type": "code",
   "execution_count": 96,
   "metadata": {},
   "outputs": [],
   "source": [
    "# All the trips on this day with their time range\n",
    "trips = runtime_sel.groupby('tripId')[\"observedToStopArrivalTime\"].agg([\"min\", \"max\"])"
   ]
  },
  {
   "cell_type": "code",
   "execution_count": 97,
   "metadata": {},
   "outputs": [],
   "source": [
    "desired_time = \"2022-10-26 08:30:16\"\n",
    "\n",
    "trips_sel = trips.query(\"min < @desired_time < max\").copy()\n",
    "tripIds_sel = trips_sel.index.tolist()"
   ]
  },
  {
   "cell_type": "code",
   "execution_count": 98,
   "metadata": {},
   "outputs": [],
   "source": [
    "runtime_used = runtime_sel.query(\"tripId in @tripIds_sel\").copy()"
   ]
  },
  {
   "cell_type": "code",
   "execution_count": 99,
   "metadata": {},
   "outputs": [],
   "source": [
    "runtime_used[\"observedFromStopDepartureTime\"] = runtime_used[\n",
    "  \"observedToStopArrivalTime\"\n",
    "] - pd.to_timedelta(\n",
    "  runtime_used[\"observedRuntimeSeconds\"], \n",
    "  unit='s'\n",
    ")"
   ]
  },
  {
   "cell_type": "code",
   "execution_count": 100,
   "metadata": {},
   "outputs": [],
   "source": [
    "# First, understand what the next 10-20 stops are for each instance\n",
    "runtime_used = runtime_used[[\n",
    "    \"routeId\", \"directionId\", \"tripId\", \"toStopId\",\n",
    "    \"toStopName\", \"toStopSequence\",\n",
    "    \"observedFromStopDepartureTime\", \"observedToStopArrivalTime\",\n",
    "]]"
   ]
  },
  {
   "cell_type": "code",
   "execution_count": 101,
   "metadata": {},
   "outputs": [],
   "source": [
    "sorted = runtime_used.sort_values(\n",
    "    [\"routeId\", \"directionId\", \"tripId\", \"toStopSequence\"]\n",
    ")"
   ]
  },
  {
   "cell_type": "code",
   "execution_count": 102,
   "metadata": {},
   "outputs": [],
   "source": [
    "for step in range(11, 21):\n",
    "  sorted[f\"next_{step}_stopId\"] = sorted.groupby([\n",
    "    \"routeId\", \"directionId\", \"tripId\"\n",
    "  ])[\"toStopId\"].shift(-step)\n",
    "  sorted[f\"next_{step}_stopName\"] = sorted.groupby([\n",
    "    \"routeId\", \"directionId\", \"tripId\"\n",
    "  ])[\"toStopName\"].shift(-step)"
   ]
  },
  {
   "cell_type": "code",
   "execution_count": 103,
   "metadata": {},
   "outputs": [],
   "source": [
    "# Now select the instances that fall within the desired timeframe\n",
    "final = sorted.query(\n",
    "  \"observedFromStopDepartureTime < @desired_time < observedToStopArrivalTime\"\n",
    ").copy()"
   ]
  },
  {
   "attachments": {},
   "cell_type": "markdown",
   "metadata": {},
   "source": [
    "Next, join prediction results"
   ]
  },
  {
   "cell_type": "code",
   "execution_count": 89,
   "metadata": {},
   "outputs": [],
   "source": [
    "prediction = pd.read_csv(\"../raw-data/demo-prediction-results.csv\")"
   ]
  },
  {
   "cell_type": "code",
   "execution_count": 92,
   "metadata": {},
   "outputs": [],
   "source": [
    "prediction = prediction[\n",
    "  [\"routeId\", \"directionId\", \"tripId\", \"toStopId\"] +\n",
    "  [col for col in prediction.columns if col.startswith(\"pred_\")] \n",
    "]"
   ]
  },
  {
   "cell_type": "code",
   "execution_count": 117,
   "metadata": {},
   "outputs": [],
   "source": [
    "# data types:\n",
    "prediction.toStopId = prediction.toStopId.astype(str)\n",
    "prediction.routeId = prediction.routeId.astype(str)\n",
    "prediction.directionId = prediction.directionId.astype(str)\n",
    "prediction.tripId = prediction.tripId.astype(\"int32\")\n"
   ]
  },
  {
   "cell_type": "code",
   "execution_count": 127,
   "metadata": {},
   "outputs": [],
   "source": [
    "with_prediction = final"
   ]
  },
  {
   "cell_type": "code",
   "execution_count": 128,
   "metadata": {},
   "outputs": [],
   "source": [
    "joinby_cols = [\"routeId\", \"directionId\", \"tripId\"]\n",
    "\n",
    "for step in range(11, 21):\n",
    "  to_join = prediction[joinby_cols + [\"toStopId\", f\"pred_{step}\"]].copy().rename(\n",
    "    columns={\n",
    "      f\"pred_{step}\": f\"pred_{step}_prediction\", \n",
    "      \"toStopId\": f\"next_{step}_stopId\"\n",
    "    }\n",
    "  )\n",
    "  with_prediction = with_prediction.merge(\n",
    "    to_join,\n",
    "    how=\"left\",\n",
    "    left_on=joinby_cols + [f\"next_{step}_stopId\"],\n",
    "    right_on=joinby_cols + [f\"next_{step}_stopId\"]\n",
    "  )"
   ]
  },
  {
   "cell_type": "code",
   "execution_count": 130,
   "metadata": {},
   "outputs": [],
   "source": [
    "with_prediction.to_csv(\"../raw-data/demo-prediction.csv\", index=False)"
   ]
  },
  {
   "attachments": {},
   "cell_type": "markdown",
   "metadata": {},
   "source": [
    "# Generate demo bus location (fake TransitView) data"
   ]
  },
  {
   "attachments": {},
   "cell_type": "markdown",
   "metadata": {},
   "source": [
    "Should preduce data that look like this:\n",
    "\n",
    "```\n",
    "{\n",
    "  \"bus\": [\n",
    "    {\n",
    "      \"lat\": \"39.952599999999997\",\n",
    "      \"lng\": \"-75.165199999999999\",\n",
    "      \"route_id\": \"21\",\n",
    "      \"trip\": \"203196\",\n",
    "      \"Direction\": \"EastBound\",\n",
    "      \"next_stop_id\": null,\n",
    "      \"next_stop_name\": null,\n",
    "      \"next_stop_sequence\": null\n",
    "    },\n",
    "    {\n",
    "      \"lat\": \"39.952843000000001\",\n",
    "      \"lng\": \"-75.191413999999995\",\n",
    "      \"route_id\": \"21\",\n",
    "      \"trip\": \"203297\",\n",
    "      \"Direction\": \"WestBound\",\n",
    "      \"next_stop_id\": \"21361\",\n",
    "      \"next_stop_name\": \"Walnut St & 36th St\",\n",
    "      \"next_stop_sequence\": 34\n",
    "    },\n",
    "  ]\n",
    "}\n",
    "```"
   ]
  },
  {
   "cell_type": "code",
   "execution_count": 169,
   "metadata": {},
   "outputs": [],
   "source": [
    "realtime = final[[\n",
    "  \"routeId\", \"directionId\", \"tripId\", \"toStopId\", \"toStopName\", \"toStopSequence\"\n",
    "]].rename(columns={\n",
    "  \"toStopId\": \"next_stop_id\",\n",
    "  \"toStopName\": \"next_stop_name\",\n",
    "  \"toStopSequence\": \"next_stop_sequence\",\n",
    "  \"routeId\": \"route_id\",\n",
    "  \"tripId\": \"trip\"\n",
    "})"
   ]
  },
  {
   "cell_type": "code",
   "execution_count": 145,
   "metadata": {},
   "outputs": [],
   "source": [
    "directionDict = {\n",
    "  21: { 0: \"Eastbound\", 1: \"Westbound\" },\n",
    "  33: { 0: \"Southbound\", 1: \"Northbound\" },\n",
    "  47: { 0: \"Southbound\", 1: \"Northbound\" },\n",
    "}"
   ]
  },
  {
   "cell_type": "code",
   "execution_count": 171,
   "metadata": {},
   "outputs": [],
   "source": [
    "realtime[\"Direction\"] = realtime.apply(\n",
    "  lambda row: directionDict[int(row.route_id)][int(row.directionId)], axis=1\n",
    ")\n",
    "realtime = realtime.drop(\"directionId\", axis=1)"
   ]
  },
  {
   "cell_type": "code",
   "execution_count": 173,
   "metadata": {},
   "outputs": [],
   "source": [
    "import geopandas as gpd\n",
    "stops = gpd.read_file(\"../../db/stops-all.geojson\")\n",
    "\n",
    "stops.StopId = stops.StopId.astype(str)"
   ]
  },
  {
   "cell_type": "code",
   "execution_count": 174,
   "metadata": {},
   "outputs": [],
   "source": [
    "stops = stops[[\"StopId\", \"Lon\", \"Lat\"]].rename(columns={\n",
    "  \"StopId\": \"next_stop_id\",\n",
    "  \"Lon\": \"lng\",\n",
    "  \"Lat\": \"lat\"\n",
    "})"
   ]
  },
  {
   "cell_type": "code",
   "execution_count": 176,
   "metadata": {},
   "outputs": [],
   "source": [
    "stops = stops.drop_duplicates(subset=[\"next_stop_id\"])"
   ]
  },
  {
   "cell_type": "code",
   "execution_count": 177,
   "metadata": {},
   "outputs": [],
   "source": [
    "realtime = realtime.merge(\n",
    "  stops,\n",
    "  how=\"left\",\n",
    "  on=\"next_stop_id\"\n",
    ")"
   ]
  },
  {
   "cell_type": "code",
   "execution_count": 186,
   "metadata": {},
   "outputs": [],
   "source": [
    "import json\n",
    "\n",
    "routes = [\"21\", \"33\", \"47\"]\n",
    "\n",
    "for route in routes:\n",
    "  subset = realtime.query(\"route_id == @route\").copy()\n",
    "  json_data = {\"bus\": subset.to_dict(orient=\"records\")}\n",
    "  \n",
    "  with open(f\"../../db/demo-transit-view/{route}.json\", \"w\") as f:\n",
    "    json.dump(json_data, f)"
   ]
  },
  {
   "cell_type": "code",
   "execution_count": 181,
   "metadata": {},
   "outputs": [
    {
     "data": {
      "text/html": [
       "<div>\n",
       "<style scoped>\n",
       "    .dataframe tbody tr th:only-of-type {\n",
       "        vertical-align: middle;\n",
       "    }\n",
       "\n",
       "    .dataframe tbody tr th {\n",
       "        vertical-align: top;\n",
       "    }\n",
       "\n",
       "    .dataframe thead th {\n",
       "        text-align: right;\n",
       "    }\n",
       "</style>\n",
       "<table border=\"1\" class=\"dataframe\">\n",
       "  <thead>\n",
       "    <tr style=\"text-align: right;\">\n",
       "      <th></th>\n",
       "      <th>route_id</th>\n",
       "      <th>trip</th>\n",
       "      <th>next_stop_id</th>\n",
       "      <th>next_stop_name</th>\n",
       "      <th>next_stop_sequence</th>\n",
       "      <th>Direction</th>\n",
       "      <th>lng</th>\n",
       "      <th>lat</th>\n",
       "    </tr>\n",
       "  </thead>\n",
       "  <tbody>\n",
       "    <tr>\n",
       "      <th>20</th>\n",
       "      <td>21</td>\n",
       "      <td>60643</td>\n",
       "      <td>593</td>\n",
       "      <td>Penn's Landing - 1</td>\n",
       "      <td>71</td>\n",
       "      <td>Eastbound</td>\n",
       "      <td>-75.140231</td>\n",
       "      <td>39.948716</td>\n",
       "    </tr>\n",
       "    <tr>\n",
       "      <th>21</th>\n",
       "      <td>21</td>\n",
       "      <td>60644</td>\n",
       "      <td>6067</td>\n",
       "      <td>Chestnut St &amp; 23rd St</td>\n",
       "      <td>48</td>\n",
       "      <td>Eastbound</td>\n",
       "      <td>-75.178276</td>\n",
       "      <td>39.952591</td>\n",
       "    </tr>\n",
       "    <tr>\n",
       "      <th>22</th>\n",
       "      <td>21</td>\n",
       "      <td>60645</td>\n",
       "      <td>516</td>\n",
       "      <td>Chestnut St &amp; 44th St</td>\n",
       "      <td>31</td>\n",
       "      <td>Eastbound</td>\n",
       "      <td>-75.209866</td>\n",
       "      <td>39.956488</td>\n",
       "    </tr>\n",
       "    <tr>\n",
       "      <th>23</th>\n",
       "      <td>21</td>\n",
       "      <td>60702</td>\n",
       "      <td>6062</td>\n",
       "      <td>Chestnut St &amp; 18th St</td>\n",
       "      <td>53</td>\n",
       "      <td>Eastbound</td>\n",
       "      <td>-75.170462</td>\n",
       "      <td>39.951602</td>\n",
       "    </tr>\n",
       "    <tr>\n",
       "      <th>24</th>\n",
       "      <td>21</td>\n",
       "      <td>60773</td>\n",
       "      <td>21390</td>\n",
       "      <td>Market St &amp; Chatham Rd</td>\n",
       "      <td>72</td>\n",
       "      <td>Westbound</td>\n",
       "      <td>-75.256477</td>\n",
       "      <td>39.962175</td>\n",
       "    </tr>\n",
       "    <tr>\n",
       "      <th>25</th>\n",
       "      <td>21</td>\n",
       "      <td>60774</td>\n",
       "      <td>434</td>\n",
       "      <td>Walnut St &amp; 52nd St</td>\n",
       "      <td>53</td>\n",
       "      <td>Westbound</td>\n",
       "      <td>-75.225394</td>\n",
       "      <td>39.956987</td>\n",
       "    </tr>\n",
       "  </tbody>\n",
       "</table>\n",
       "</div>"
      ],
      "text/plain": [
       "   route_id   trip next_stop_id          next_stop_name  next_stop_sequence  \\\n",
       "20       21  60643          593      Penn's Landing - 1                  71   \n",
       "21       21  60644         6067   Chestnut St & 23rd St                  48   \n",
       "22       21  60645          516   Chestnut St & 44th St                  31   \n",
       "23       21  60702         6062   Chestnut St & 18th St                  53   \n",
       "24       21  60773        21390  Market St & Chatham Rd                  72   \n",
       "25       21  60774          434     Walnut St & 52nd St                  53   \n",
       "\n",
       "    Direction        lng        lat  \n",
       "20  Eastbound -75.140231  39.948716  \n",
       "21  Eastbound -75.178276  39.952591  \n",
       "22  Eastbound -75.209866  39.956488  \n",
       "23  Eastbound -75.170462  39.951602  \n",
       "24  Westbound -75.256477  39.962175  \n",
       "25  Westbound -75.225394  39.956987  "
      ]
     },
     "execution_count": 181,
     "metadata": {},
     "output_type": "execute_result"
    }
   ],
   "source": [
    "realtime.query(\"route_id == '21'\")"
   ]
  },
  {
   "cell_type": "code",
   "execution_count": 182,
   "metadata": {},
   "outputs": [],
   "source": [
    "json_data = {\"bus\": realtime.to_dict(orient=\"records\")}"
   ]
  },
  {
   "cell_type": "code",
   "execution_count": 183,
   "metadata": {},
   "outputs": [
    {
     "data": {
      "text/plain": [
       "{'bus': [{'route_id': '33',\n",
       "   'trip': 64882,\n",
       "   'next_stop_id': '10255',\n",
       "   'next_stop_name': 'Market St & 10th St',\n",
       "   'next_stop_sequence': 47,\n",
       "   'Direction': 'Southbound',\n",
       "   'lng': -75.157213,\n",
       "   'lat': 39.951512},\n",
       "  {'route_id': '33',\n",
       "   'trip': 64883,\n",
       "   'next_stop_id': '31348',\n",
       "   'next_stop_name': '19th St & JFK Blvd',\n",
       "   'next_stop_sequence': 41,\n",
       "   'Direction': 'Southbound',\n",
       "   'lng': -75.17142,\n",
       "   'lat': 39.954559},\n",
       "  {'route_id': '33',\n",
       "   'trip': 64900,\n",
       "   'next_stop_id': '2769',\n",
       "   'next_stop_name': '19th St & Oxford St',\n",
       "   'next_stop_sequence': 38,\n",
       "   'Direction': 'Northbound',\n",
       "   'lng': -75.166113,\n",
       "   'lat': 39.978199},\n",
       "  {'route_id': '33',\n",
       "   'trip': 64907,\n",
       "   'next_stop_id': '3163',\n",
       "   'next_stop_name': '22nd St & Somerset St',\n",
       "   'next_stop_sequence': 53,\n",
       "   'Direction': 'Northbound',\n",
       "   'lng': -75.167178,\n",
       "   'lat': 39.997113},\n",
       "  {'route_id': '47',\n",
       "   'trip': 69540,\n",
       "   'next_stop_id': '724',\n",
       "   'next_stop_name': '6th St & Erie Av',\n",
       "   'next_stop_sequence': 27,\n",
       "   'Direction': 'Southbound',\n",
       "   'lng': -75.138894,\n",
       "   'lat': 40.007796},\n",
       "  {'route_id': '47',\n",
       "   'trip': 69545,\n",
       "   'next_stop_id': '26051',\n",
       "   'next_stop_name': '8th St & Thompson St',\n",
       "   'next_stop_sequence': 54,\n",
       "   'Direction': 'Southbound',\n",
       "   'lng': -75.149705,\n",
       "   'lat': 39.972139},\n",
       "  {'route_id': '47',\n",
       "   'trip': 69583,\n",
       "   'next_stop_id': '725',\n",
       "   'next_stop_name': '8th St & Susquehanna Av - FS',\n",
       "   'next_stop_sequence': 44,\n",
       "   'Direction': 'Southbound',\n",
       "   'lng': -75.146914,\n",
       "   'lat': 39.984904},\n",
       "  {'route_id': '47',\n",
       "   'trip': 69584,\n",
       "   'next_stop_id': '725',\n",
       "   'next_stop_name': '8th St & Susquehanna Av - FS',\n",
       "   'next_stop_sequence': 44,\n",
       "   'Direction': 'Southbound',\n",
       "   'lng': -75.146914,\n",
       "   'lat': 39.984904},\n",
       "  {'route_id': '47',\n",
       "   'trip': 69602,\n",
       "   'next_stop_id': '16283',\n",
       "   'next_stop_name': '8th St & Brown St',\n",
       "   'next_stop_sequence': 59,\n",
       "   'Direction': 'Southbound',\n",
       "   'lng': -75.151136,\n",
       "   'lat': 39.9656},\n",
       "  {'route_id': '47',\n",
       "   'trip': 69603,\n",
       "   'next_stop_id': '18442',\n",
       "   'next_stop_name': '8th St & Race St',\n",
       "   'next_stop_sequence': 66,\n",
       "   'Direction': 'Southbound',\n",
       "   'lng': -75.152806,\n",
       "   'lat': 39.955188},\n",
       "  {'route_id': '47',\n",
       "   'trip': 69604,\n",
       "   'next_stop_id': '16312',\n",
       "   'next_stop_name': '8th St & Ritner St',\n",
       "   'next_stop_sequence': 96,\n",
       "   'Direction': 'Southbound',\n",
       "   'lng': -75.160604,\n",
       "   'lat': 39.91947},\n",
       "  {'route_id': '47',\n",
       "   'trip': 69605,\n",
       "   'next_stop_id': '21227',\n",
       "   'next_stop_name': '8th St & Mifflin St',\n",
       "   'next_stop_sequence': 91,\n",
       "   'Direction': 'Southbound',\n",
       "   'lng': -75.159283,\n",
       "   'lat': 39.925599},\n",
       "  {'route_id': '47',\n",
       "   'trip': 69677,\n",
       "   'next_stop_id': '18518',\n",
       "   'next_stop_name': '7th St & Race St - FS',\n",
       "   'next_stop_sequence': 35,\n",
       "   'Direction': 'Northbound',\n",
       "   'lng': -75.151199,\n",
       "   'lat': 39.955252},\n",
       "  {'route_id': '47',\n",
       "   'trip': 69681,\n",
       "   'next_stop_id': '18516',\n",
       "   'next_stop_name': '7th St & Chestnut St',\n",
       "   'next_stop_sequence': 32,\n",
       "   'Direction': 'Northbound',\n",
       "   'lng': -75.152298,\n",
       "   'lat': 39.94919},\n",
       "  {'route_id': '47',\n",
       "   'trip': 69683,\n",
       "   'next_stop_id': '737',\n",
       "   'next_stop_name': '7th St & Girard Av',\n",
       "   'next_stop_sequence': 47,\n",
       "   'Direction': 'Northbound',\n",
       "   'lng': -75.148082,\n",
       "   'lat': 39.970314},\n",
       "  {'route_id': '47',\n",
       "   'trip': 69684,\n",
       "   'next_stop_id': '16234',\n",
       "   'next_stop_name': '5th St & Cumberland St',\n",
       "   'next_stop_sequence': 62,\n",
       "   'Direction': 'Northbound',\n",
       "   'lng': -75.140825,\n",
       "   'lat': 39.988915},\n",
       "  {'route_id': '47',\n",
       "   'trip': 69685,\n",
       "   'next_stop_id': '18540',\n",
       "   'next_stop_name': '5th St & Lehigh Av',\n",
       "   'next_stop_sequence': 64,\n",
       "   'Direction': 'Northbound',\n",
       "   'lng': -75.140151,\n",
       "   'lat': 39.992002},\n",
       "  {'route_id': '47',\n",
       "   'trip': 69686,\n",
       "   'next_stop_id': '18555',\n",
       "   'next_stop_name': '5th St & Hunting Park Av',\n",
       "   'next_stop_sequence': 79,\n",
       "   'Direction': 'Northbound',\n",
       "   'lng': -75.135118,\n",
       "   'lat': 40.014945},\n",
       "  {'route_id': '47',\n",
       "   'trip': 69687,\n",
       "   'next_stop_id': '18574',\n",
       "   'next_stop_name': '5th St & Spencer St',\n",
       "   'next_stop_sequence': 99,\n",
       "   'Direction': 'Northbound',\n",
       "   'lng': -75.128779,\n",
       "   'lat': 40.043991},\n",
       "  {'route_id': '47',\n",
       "   'trip': 69723,\n",
       "   'next_stop_id': '742',\n",
       "   'next_stop_name': '5th St & Wyoming Av',\n",
       "   'next_stop_sequence': 84,\n",
       "   'Direction': 'Northbound',\n",
       "   'lng': -75.133455,\n",
       "   'lat': 40.022608},\n",
       "  {'route_id': '21',\n",
       "   'trip': 60643,\n",
       "   'next_stop_id': '593',\n",
       "   'next_stop_name': \"Penn's Landing - 1\",\n",
       "   'next_stop_sequence': 71,\n",
       "   'Direction': 'Eastbound',\n",
       "   'lng': -75.140231,\n",
       "   'lat': 39.948716},\n",
       "  {'route_id': '21',\n",
       "   'trip': 60644,\n",
       "   'next_stop_id': '6067',\n",
       "   'next_stop_name': 'Chestnut St & 23rd St',\n",
       "   'next_stop_sequence': 48,\n",
       "   'Direction': 'Eastbound',\n",
       "   'lng': -75.178276,\n",
       "   'lat': 39.952591},\n",
       "  {'route_id': '21',\n",
       "   'trip': 60645,\n",
       "   'next_stop_id': '516',\n",
       "   'next_stop_name': 'Chestnut St & 44th St',\n",
       "   'next_stop_sequence': 31,\n",
       "   'Direction': 'Eastbound',\n",
       "   'lng': -75.209866,\n",
       "   'lat': 39.956488},\n",
       "  {'route_id': '21',\n",
       "   'trip': 60702,\n",
       "   'next_stop_id': '6062',\n",
       "   'next_stop_name': 'Chestnut St & 18th St',\n",
       "   'next_stop_sequence': 53,\n",
       "   'Direction': 'Eastbound',\n",
       "   'lng': -75.170462,\n",
       "   'lat': 39.951602},\n",
       "  {'route_id': '21',\n",
       "   'trip': 60773,\n",
       "   'next_stop_id': '21390',\n",
       "   'next_stop_name': 'Market St & Chatham Rd',\n",
       "   'next_stop_sequence': 72,\n",
       "   'Direction': 'Westbound',\n",
       "   'lng': -75.256477,\n",
       "   'lat': 39.962175},\n",
       "  {'route_id': '21',\n",
       "   'trip': 60774,\n",
       "   'next_stop_id': '434',\n",
       "   'next_stop_name': 'Walnut St & 52nd St',\n",
       "   'next_stop_sequence': 53,\n",
       "   'Direction': 'Westbound',\n",
       "   'lng': -75.225394,\n",
       "   'lat': 39.956987}]}"
      ]
     },
     "execution_count": 183,
     "metadata": {},
     "output_type": "execute_result"
    }
   ],
   "source": [
    "import json"
   ]
  }
 ],
 "metadata": {
  "kernelspec": {
   "display_name": "musa-550-fall-2022",
   "language": "python",
   "name": "python3"
  },
  "language_info": {
   "codemirror_mode": {
    "name": "ipython",
    "version": 3
   },
   "file_extension": ".py",
   "mimetype": "text/x-python",
   "name": "python",
   "nbconvert_exporter": "python",
   "pygments_lexer": "ipython3",
   "version": "3.9.15"
  },
  "orig_nbformat": 4
 },
 "nbformat": 4,
 "nbformat_minor": 2
}
