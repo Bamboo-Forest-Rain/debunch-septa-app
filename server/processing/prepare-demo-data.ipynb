{
 "cells": [
  {
   "cell_type": "code",
   "execution_count": 30,
   "metadata": {},
   "outputs": [],
   "source": [
    "import pandas as pd\n",
    "import numpy as np\n",
    "pd.set_option('display.max_columns', None)\n",
    "runtime = pd.read_parquet(\"../raw-data/runtimeSeveralRoutesOctWithLags_all.gzip\")"
   ]
  },
  {
   "attachments": {},
   "cell_type": "markdown",
   "metadata": {},
   "source": [
    "Form a table with:\n",
    "\n",
    "- Rows representing the active trips at \"2022-10-26 08:30:16\".\n",
    "- Columns containing information of:\n",
    "  - Route\n",
    "  - Direction\n",
    "  - Current stop ID and stop name\n",
    "  - Stop IDs and stop names 11-20 stops ahead"
   ]
  },
  {
   "cell_type": "code",
   "execution_count": 72,
   "metadata": {},
   "outputs": [],
   "source": [
    "# Select \n",
    "query = \"(routeId.isin(['21', '47', '33'])) & (serviceDate == '2022-10-26')\"\n",
    "runtime_sel = runtime.query(query).copy()"
   ]
  },
  {
   "cell_type": "code",
   "execution_count": 73,
   "metadata": {},
   "outputs": [],
   "source": [
    "# All the trips on this day with their time range\n",
    "trips = runtime_sel.groupby('tripId')[\"observedToStopArrivalTime\"].agg([\"min\", \"max\"])"
   ]
  },
  {
   "cell_type": "code",
   "execution_count": 74,
   "metadata": {},
   "outputs": [],
   "source": [
    "desired_time = \"2022-10-26 08:30:16\"\n",
    "\n",
    "trips_sel = trips.query(\"min < @desired_time < max\").copy()\n",
    "tripIds_sel = trips_sel.index.tolist()"
   ]
  },
  {
   "cell_type": "code",
   "execution_count": 76,
   "metadata": {},
   "outputs": [],
   "source": [
    "runtime_used = runtime_sel.query(\"tripId in @tripIds_sel\").copy()\n"
   ]
  },
  {
   "cell_type": "code",
   "execution_count": 80,
   "metadata": {},
   "outputs": [],
   "source": [
    "runtime_used[\"observedFromStopDepartureTime\"] = runtime_used[\n",
    "  \"observedToStopArrivalTime\"\n",
    "] - pd.to_timedelta(\n",
    "  runtime_used[\"observedRuntimeSeconds\"], \n",
    "  unit='s'\n",
    ")"
   ]
  },
  {
   "cell_type": "code",
   "execution_count": 81,
   "metadata": {},
   "outputs": [],
   "source": [
    "# First, understand what the next 10-20 stops are for each instance\n",
    "runtime_used = runtime_used[[\n",
    "    \"routeId\", \"directionId\", \"tripId\", \"toStopId\",\n",
    "    \"toStopName\", \"toStopSequence\",\n",
    "    \"observedFromStopDepartureTime\", \"observedToStopArrivalTime\",\n",
    "]]"
   ]
  },
  {
   "cell_type": "code",
   "execution_count": 82,
   "metadata": {},
   "outputs": [],
   "source": [
    "sorted = runtime_used.sort_values(\n",
    "    [\"routeId\", \"directionId\", \"tripId\", \"toStopSequence\"]\n",
    ")"
   ]
  },
  {
   "cell_type": "code",
   "execution_count": 83,
   "metadata": {},
   "outputs": [],
   "source": [
    "for step in range(10, 21):\n",
    "  sorted[f\"next_{step}_stopId\"] = sorted.groupby([\n",
    "    \"routeId\", \"directionId\", \"tripId\"\n",
    "  ])[\"toStopId\"].shift(-step)\n",
    "  sorted[f\"next_{step}_stopName\"] = sorted.groupby([\n",
    "    \"routeId\", \"directionId\", \"tripId\"\n",
    "  ])[\"toStopName\"].shift(-step)"
   ]
  },
  {
   "cell_type": "code",
   "execution_count": 85,
   "metadata": {},
   "outputs": [],
   "source": [
    "# Now select the instances that fall within the desired timeframe\n",
    "final = sorted.query(\n",
    "  \"observedFromStopDepartureTime < @desired_time < observedToStopArrivalTime\"\n",
    ").copy()"
   ]
  }
 ],
 "metadata": {
  "kernelspec": {
   "display_name": "musa-550-fall-2022",
   "language": "python",
   "name": "python3"
  },
  "language_info": {
   "codemirror_mode": {
    "name": "ipython",
    "version": 3
   },
   "file_extension": ".py",
   "mimetype": "text/x-python",
   "name": "python",
   "nbconvert_exporter": "python",
   "pygments_lexer": "ipython3",
   "version": "3.9.15"
  },
  "orig_nbformat": 4
 },
 "nbformat": 4,
 "nbformat_minor": 2
}
